{
 "cells": [
  {
   "cell_type": "code",
   "execution_count": 2,
   "id": "8f0219f4-9e4d-448e-9c78-ace7c27ee0e1",
   "metadata": {},
   "outputs": [],
   "source": [
    "text = \"\"\"author,book\n",
    "J R R Tolkien,The Hobbit\n",
    "Lynne Truss,\"Eats, Shoots & Leaves\"\n",
    "\"\"\"\n",
    "\n",
    "with open(\"books.csv\", \"w\") as file:#16.1\n",
    "    file.write(text)\n"
   ]
  },
  {
   "cell_type": "code",
   "execution_count": null,
   "id": "0459840b-73ce-4f4b-a52d-136fba550948",
   "metadata": {},
   "outputs": [],
   "source": []
  },
  {
   "cell_type": "code",
   "execution_count": null,
   "id": "b159f2b5-ebae-48d3-ac94-2defb786e7e1",
   "metadata": {},
   "outputs": [],
   "source": []
  }
 ],
 "metadata": {
  "kernelspec": {
   "display_name": "Python [conda env:base] *",
   "language": "python",
   "name": "conda-base-py"
  },
  "language_info": {
   "codemirror_mode": {
    "name": "ipython",
    "version": 3
   },
   "file_extension": ".py",
   "mimetype": "text/x-python",
   "name": "python",
   "nbconvert_exporter": "python",
   "pygments_lexer": "ipython3",
   "version": "3.12.2"
  }
 },
 "nbformat": 4,
 "nbformat_minor": 5
}
