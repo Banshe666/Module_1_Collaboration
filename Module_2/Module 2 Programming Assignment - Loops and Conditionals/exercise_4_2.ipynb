{
 "cells": [
  {
   "cell_type": "code",
   "execution_count": 1,
   "id": "9c2b00c8-5eee-4214-b058-6afb8c536166",
   "metadata": {},
   "outputs": [
    {
     "name": "stdout",
     "output_type": "stream",
     "text": [
      "The item matches a cherry.\n"
     ]
    }
   ],
   "source": [
    "small = True  \n",
    "green = False  \n",
    "\n",
    "\n",
    "if small and green:\n",
    "    print(\"The item matches a pea.\")\n",
    "elif small and not green:\n",
    "    print(\"The item matches a cherry.\")\n",
    "elif not small and green:\n",
    "    print(\"The item matches a watermelon.\")\n",
    "elif not small and not green:\n",
    "    print(\"The item matches a pumpkin.\")\n",
    "else:\n",
    "    print(\"No match found for this item.\")"
   ]
  },
  {
   "cell_type": "code",
   "execution_count": null,
   "id": "1f295c6c-2d82-4eae-848f-e8d51818ffcb",
   "metadata": {},
   "outputs": [],
   "source": []
  },
  {
   "cell_type": "code",
   "execution_count": null,
   "id": "09844fcb-a82f-469c-b219-0d746264cafa",
   "metadata": {},
   "outputs": [],
   "source": []
  },
  {
   "cell_type": "code",
   "execution_count": null,
   "id": "73890ecb-dffa-4a4e-8740-3a07a1011009",
   "metadata": {},
   "outputs": [],
   "source": []
  }
 ],
 "metadata": {
  "kernelspec": {
   "display_name": "Python 3 (ipykernel)",
   "language": "python",
   "name": "python3"
  },
  "language_info": {
   "codemirror_mode": {
    "name": "ipython",
    "version": 3
   },
   "file_extension": ".py",
   "mimetype": "text/x-python",
   "name": "python",
   "nbconvert_exporter": "python",
   "pygments_lexer": "ipython3",
   "version": "3.12.7"
  }
 },
 "nbformat": 4,
 "nbformat_minor": 5
}
