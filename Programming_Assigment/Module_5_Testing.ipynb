{
 "cells": [
  {
   "cell_type": "code",
   "execution_count": null,
   "id": "5df29c3e-b3d9-4de4-9317-137864072823",
   "metadata": {},
   "outputs": [],
   "source": [
    "import unittest\n",
    "from fractions import Fraction\n",
    "\n",
    "from my_sum import sum\n",
    "\n",
    "\n",
    "class TestSum(unittest.TestCase):\n",
    "    def test_list_int(self):\n",
    "        \"\"\"\n",
    "        Test that it can sum a list of integers\n",
    "        \"\"\"\n",
    "        data = [1, 2, 3]\n",
    "        result = sum(data)\n",
    "        self.assertEqual(result, 6)\n",
    "\n",
    "    def test_list_fraction(self):\n",
    "        \"\"\"\n",
    "        Test that it can sum a list of fractions\n",
    "        \"\"\"\n",
    "        data = [Fraction(1, 4), Fraction(1, 4), Fraction(2, 5)]\n",
    "        result = sum(data)\n",
    "        self.assertEqual(result, 1)\n",
    "\n",
    "if __name__ == '__main__':\n",
    "    unittest.main()"
   ]
  },
  {
   "cell_type": "code",
   "execution_count": 1,
   "id": "2b7a70bb-273a-4c45-9293-8d4f53199961",
   "metadata": {},
   "outputs": [
    {
     "ename": "SyntaxError",
     "evalue": "unterminated string literal (detected at line 1) (2665985517.py, line 1)",
     "output_type": "error",
     "traceback": [
      "\u001b[0;36m  Cell \u001b[0;32mIn[1], line 1\u001b[0;36m\u001b[0m\n\u001b[0;31m    //The integer test passed because summing [1, 2, 3] correctly returns 6. However, the fraction test failed: summing [Fraction(1, 4), Fraction(1, 4), Fraction(2, 5)] yields Fraction(9, 10) (or 0.9), not 1 as expected. This discrepancy suggests that the expected result in the test might be wrong or the function doesn't handle fractions as intended.\u001b[0m\n\u001b[0m                                                                                                                                                                                                                                                                                                                                ^\u001b[0m\n\u001b[0;31mSyntaxError\u001b[0m\u001b[0;31m:\u001b[0m unterminated string literal (detected at line 1)\n"
     ]
    }
   ],
   "source": [
    "//The integer test passed because summing [1, 2, 3] correctly returns 6. However, the fraction test failed: summing [Fraction(1, 4), Fraction(1, 4), Fraction(2, 5)] return Fraction(9, 10 or 0.9), not 1 as expected. This discrepancy suggests that the expected result in the test might be wrong or the function doesn't handle fractions as intended."
   ]
  },
  {
   "cell_type": "code",
   "execution_count": null,
   "id": "98c22e26-4076-45e6-ba0c-a86c46a8fc4e",
   "metadata": {},
   "outputs": [],
   "source": []
  }
 ],
 "metadata": {
  "kernelspec": {
   "display_name": "Python [conda env:base] *",
   "language": "python",
   "name": "conda-base-py"
  },
  "language_info": {
   "codemirror_mode": {
    "name": "ipython",
    "version": 3
   },
   "file_extension": ".py",
   "mimetype": "text/x-python",
   "name": "python",
   "nbconvert_exporter": "python",
   "pygments_lexer": "ipython3",
   "version": "3.12.2"
  }
 },
 "nbformat": 4,
 "nbformat_minor": 5
}
