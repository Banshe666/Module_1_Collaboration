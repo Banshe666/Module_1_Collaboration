{
 "cells": [
  {
   "cell_type": "code",
   "execution_count": 5,
   "id": "914341ce-35bf-4584-99c3-2572ebd51290",
   "metadata": {},
   "outputs": [],
   "source": [
    "class Solution:\n",
    "   def binarysearch(self, arr, k):\n",
    "\n",
    "        for i in range(len(arr)):\n",
    "\n",
    "            if arr[i]==k:\n",
    "\n",
    "                break\n",
    "\n",
    "        if k not in arr:\n",
    "\n",
    "            return(-1)\n",
    "\n",
    "        else:\n",
    "\n",
    "            return i\n",
    "\n",
    "if __name__ == 'main':\n",
    "    t = int(input())\n",
    "    \n",
    "    for _ in range(t):\n",
    "        k = int(input())\n",
    "        arr = list(map(int, input().split()))\n",
    "        ob = Solution()\n",
    "        res = ob.binarysearch(arr, k)\n",
    "        print(res)\n",
    "        print('~')"
   ]
  },
  {
   "cell_type": "code",
   "execution_count": null,
   "id": "6eb7849b-5bbe-4d78-88ba-925cc3d8005b",
   "metadata": {},
   "outputs": [],
   "source": []
  },
  {
   "cell_type": "code",
   "execution_count": null,
   "id": "76bd7bfc-68e0-4e5a-b93f-af88231845c5",
   "metadata": {},
   "outputs": [],
   "source": []
  },
  {
   "cell_type": "code",
   "execution_count": null,
   "id": "cb6dc5c3-10a5-4d54-bab7-0b82a8380756",
   "metadata": {},
   "outputs": [],
   "source": []
  },
  {
   "cell_type": "code",
   "execution_count": null,
   "id": "ec12116f-0469-4c17-b5f5-eabc3b6d80f5",
   "metadata": {},
   "outputs": [],
   "source": []
  }
 ],
 "metadata": {
  "kernelspec": {
   "display_name": "Python 3 (ipykernel)",
   "language": "python",
   "name": "python3"
  },
  "language_info": {
   "codemirror_mode": {
    "name": "ipython",
    "version": 3
   },
   "file_extension": ".py",
   "mimetype": "text/x-python",
   "name": "python",
   "nbconvert_exporter": "python",
   "pygments_lexer": "ipython3",
   "version": "3.12.7"
  }
 },
 "nbformat": 4,
 "nbformat_minor": 5
}
