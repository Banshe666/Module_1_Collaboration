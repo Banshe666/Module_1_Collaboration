{
 "cells": [
  {
   "cell_type": "code",
   "execution_count": 1,
   "id": "547271e2-ef46-4f8b-8f8c-9a384e70e948",
   "metadata": {},
   "outputs": [
    {
     "name": "stdout",
     "output_type": "stream",
     "text": [
      "3\n",
      "-1\n",
      "0\n"
     ]
    }
   ],
   "source": [
    "def binarySearch(arr, k):\n",
    "    left, right, res = 0, len(arr) - 1, -1\n",
    "    while left <= right:\n",
    "        mid = (left + right) // 2\n",
    "        if arr[mid] >= k:\n",
    "            if arr[mid] == k: res = mid\n",
    "            right = mid - 1\n",
    "        else:\n",
    "            left = mid + 1\n",
    "    return res\n",
    "\n",
    "arr = [1, 2, 3, 4, 5]\n",
    "k = 4\n",
    "print(binarySearch(arr, k))\n",
    "\n",
    "arr = [11, 22, 33, 44, 55]\n",
    "k = 445\n",
    "print(binarySearch(arr, k))\n",
    "\n",
    "arr = [1, 1, 1, 1, 2]\n",
    "k = 1\n",
    "print(binarySearch(arr, k))\n"
   ]
  },
  {
   "cell_type": "code",
   "execution_count": null,
   "id": "1357daa2-ee1b-4490-b920-8771e88545fe",
   "metadata": {},
   "outputs": [],
   "source": []
  }
 ],
 "metadata": {
  "kernelspec": {
   "display_name": "Python 3 (ipykernel)",
   "language": "python",
   "name": "python3"
  },
  "language_info": {
   "codemirror_mode": {
    "name": "ipython",
    "version": 3
   },
   "file_extension": ".py",
   "mimetype": "text/x-python",
   "name": "python",
   "nbconvert_exporter": "python",
   "pygments_lexer": "ipython3",
   "version": "3.12.7"
  }
 },
 "nbformat": 4,
 "nbformat_minor": 5
}
